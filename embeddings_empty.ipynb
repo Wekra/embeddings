{
 "cells": [
  {
   "cell_type": "markdown",
   "metadata": {},
   "source": [
    "# Semantische Ähnlichkeit von Texten\n",
    "\n",
    "Natürliche Sprachen bieten uns mannigfaltige Möglichkeiten, dieselben Inhalte auf unterschiedliche Art und Weise auszudrücken. Für die Interpretation natürlichsprachlicher Texte reicht es daher nicht, auf den Ebenen von Morphologie und Syntax zu bleiben und die Form von Wörtern sowie deren Anordnung im Satz zu betrachten, sondern wir müssen als zusätzliche Ebene die der Semantik betrachten.\n",
    "\n",
    "Dabei beginnen wir zunächst mit der Betrachtung der Wortebene und sammeln Erfahrung mit word2vec.\n",
    "\n",
    "Anschließend wollen wir versuchen, von Wort- zu Satzbedeutungen zu kommen: Wie gut können wir die Ähnlichkeit zweier Sätze unter Rückgriff auf die semantischen Embeddings der in ihnen enthaltenen Wörter bestimmen?\n",
    "\n",
    "Als Orientierung dient uns dabei das [STS-Benchmark-Datenset](http://ixa2.si.ehu.es/stswiki/index.php/STSbenchmark), das im Rahmen von [SemEval](https://en.wikipedia.org/wiki/SemEval) entstanden ist.\n",
    "Das Datenset enthält Trainings-, Test- und Evaluationsdaten zu folgender Aufgabenstellung: \n",
    "Gegeben zwei Sätze S1 und S2, berechne Ähnlichkeitswert zwischen 0 (völlig unterschiedlicher Inhalt) und 5 (bedeutungsgleich)."
   ]
  },
  {
   "cell_type": "markdown",
   "metadata": {},
   "source": [
    "## Aufgabe 1: Word2Vec\n",
    "> You shall know a word by the company it keeps.\n",
    ">\n",
    "> -- <cite>J. R. Firth</cite>\n",
    "\n",
    "Im ersten NLP-Labor haben wir mit dem Bag-of-Words-Modell eine recht einfache Methode festgestellt, um Wörter bzw. ganze Sätze in einen Vektorraum abzubilden: Jedem Wort wird ein eindeutiger Index zugewiesen. Es lässt sich dann als one-hot-enkodierter Vektor darstellen, der an eben jenem Index eine Eins und ansonsten nur Nullen enthält und dessen Länge der Anzahl der Wörter im Vokabular entspricht. Die Enkodierung ganzer Sätze erhält man durch Aufsummieren dieser one-hot-enkodierten Vektoren.\n",
    "Bei einem solchen Modell geht auf Satzebene die Information über die Reihenfolge der Wörter verloren und ganz allgemein wird offensichtlich die Semantik der Wörter nicht berücksichtigt.\n",
    "\n",
    "Gehen wir zum Beispiel von folgendem Vokabular aus: ```{\"heiß\", \"warm\", \"Gurke\"}``` und enkodieren die einzelnen Wörter wie folgt: ```[1, 0, 0], [0, 1, 0], [0, 0, 1]```, dann sind sich \"heiß\" und \"warm\" genauso ähnlich oder unähnlich wie \"heiß\" und \"Gurke\".\n",
    "\n",
    "Semantische Embeddings schaffen an dieser Stelle Abhilfe. Ein bekannter Vertreter dieser Ansätze ist das Word2Vec-Modell, das 2013 von [Tomas Mikolov et al.](https://arxiv.org/abs/1301.3781) bei Google entwickelt wurde und seither rasch an Verbreitung gewonnen hat.\n",
    "\n",
    "Wir werden mit vortrainierten Google-News-Embeddings arbeiten, die [hier](https://drive.google.com/file/d/0B7XkCwpI5KDYNlNUTTlSS21pQmM/edit?usp=sharing) heruntergeladen werden können. Die Vektoren haben die Länge 300."
   ]
  },
  {
   "cell_type": "markdown",
   "metadata": {},
   "source": [
    "### Aufgabe 1.1: Vorbereitung\n",
    "Ladet die Embeddings über den oben angegebenen Link herunter und verwendet gensim, um sie zu laden.\n",
    "\n",
    "**Hinweis**: Kann einen Moment dauern, bis das Dictionary, das von Wort auf Embedding abbildet, erzeugt ist. Im Zweifel ein ```limit``` angeben und nur die ersten 1,5 Mio. Embeddings laden."
   ]
  },
  {
   "cell_type": "code",
   "execution_count": 4,
   "metadata": {},
   "outputs": [],
   "source": [
    "import gensim\n",
    "\n",
    "embeddings = gensim.models.KeyedVectors.load_word2vec_format('data/GoogleNews-vectors-negative300.bin', binary=True)"
   ]
  },
  {
   "cell_type": "code",
   "execution_count": 5,
   "metadata": {},
   "outputs": [
    {
     "data": {
      "text/plain": [
       "'Sieht gut aus.'"
      ]
     },
     "execution_count": 5,
     "metadata": {},
     "output_type": "execute_result"
    }
   ],
   "source": [
    "def check_embeddings(embeddings):\n",
    "    error_message = \"Oh, da ist wohl etwas schiefgelaufen! Der folgende Test schlägt fehl: {}.\"\n",
    "    most_similar = embeddings.most_similar(positive=['man', 'queen'], negative=['woman'])\n",
    "    if len(most_similar) < 1 or most_similar[0][0] != 'king':\n",
    "        return error_message.format(\"'Most similar'\")\n",
    "\n",
    "    doesnt_match = embeddings.doesnt_match(['spring', 'rain', 'autumn', 'summer'])\n",
    "    if doesnt_match != 'rain':\n",
    "        return error_message.format(\"'Doesn't match'\")\n",
    "    \n",
    "    most_similar_to_given = embeddings.most_similar_to_given('school', ['cat', 'sound', 'university', 'whine'])\n",
    "    if most_similar_to_given != 'university':\n",
    "        return error_message.format(\"'Most similar to given'\")\n",
    "    \n",
    "    return \"Sieht gut aus.\"\n",
    "\n",
    "check_embeddings(embeddings)"
   ]
  },
  {
   "cell_type": "markdown",
   "metadata": {},
   "source": [
    "### Aufgabe 1.2: Spaß mit Semantik\n",
    "Im Folgenden wollen wir uns ein bisschen mit dem Mehrwert beschäftigen, den semantische Embeddings bieten.\n",
    "\n",
    "Mit ihnen lassen sich zum Beispiel folgende Fragen beantworten:\n"
   ]
  },
  {
   "cell_type": "code",
   "execution_count": 34,
   "metadata": {},
   "outputs": [
    {
     "name": "stdout",
     "output_type": "stream",
     "text": [
      "Das deutsche New York ist: ('Berlin', 0.5106605291366577)\n",
      "Der Mozart der Physik ist: ('Einstein', 0.5265765190124512)\n",
      "burning:burnt wie singing:('sang', 0.6142075061798096)\n",
      "Ähnlichkeit DE, FR: 0.5436527729034424\n",
      "Ähnlichkeit DE, CAN: 0.7556446194648743\n"
     ]
    }
   ],
   "source": [
    "# Welche Stadt ist das New York Deutschlands? (Hinweis: 'New_York' ist als Token in den Embeddings enthalten)\n",
    "print('Das deutsche New York ist: {}'.format(embeddings.most_similar(positive=['NewYork', 'Germany', 'city'], negative=['USA'])[0]))\n",
    "\n",
    "# Wer ist eigentlich der Mozart der Physik?\n",
    "print('Der Mozart der Physik ist: {}'.format(embeddings.most_similar(positive=['Mozart', 'physicist', 'person'], negative=['musician'])[0]))\n",
    "\n",
    "# Welches Wort verhält sich zu 'singing' wie 'burnt' zu 'burning'?\n",
    "print('burning:burnt wie singing:{}'.format(embeddings.most_similar(positive=['burning', 'burnt', 'singing'], negative=['burning'])[0]))\n",
    "\n",
    "# Sind sich Deutschland und Frankreich ähnlicher oder Deutschland und Kanada?\n",
    "print('Ähnlichkeit DE, FR: {}'.format(embeddings.distance('DE', 'FR')))\n",
    "print('Ähnlichkeit DE, CAN: {}'.format(embeddings.distance('DE', 'CAN')))\n"
   ]
  },
  {
   "cell_type": "markdown",
   "metadata": {},
   "source": [
    "Bei der Interpretation der Ergebnisse ist jedoch Vorsicht geboten: Es werden zwar semantische Beziehungen abgebildet, aber die entsprechen möglicherweise nicht immer den Erwartungen.\n",
    "\n",
    "Wie ähnlich sind sich zum Beispiel \"Leben\" und \"Tod\", \"kalt\" und \"warm\", \"Norden\" und \"Süden\"?\n",
    "\n",
    "Sind die Ergebnisse wie erwartet? Warum (nicht)?"
   ]
  },
  {
   "cell_type": "code",
   "execution_count": 39,
   "metadata": {},
   "outputs": [
    {
     "name": "stdout",
     "output_type": "stream",
     "text": [
      "Ähnlichkeit Leben, Tod: 0.3618776500225067\n",
      "Ähnlichkeit kalt, warm: 0.5953035354614258\n",
      "Ähnlichkeit Norden, Süden: 0.9674535393714905\n"
     ]
    }
   ],
   "source": [
    "# TODO\n",
    "print('Ähnlichkeit Leben, Tod: {}'.format(embeddings.similarity('life', 'death')))\n",
    "print('Ähnlichkeit kalt, warm: {}'.format(embeddings.similarity('cold', 'warm')))\n",
    "print('Ähnlichkeit Norden, Süden: {}'.format(embeddings.similarity('north', 'south')))"
   ]
  },
  {
   "cell_type": "markdown",
   "metadata": {},
   "source": [
    "Die Embeddings sind nicht neutral, sondern spiegeln die Beziehungen wieder, die sich in den Trainingsdaten finden lassen."
   ]
  },
  {
   "cell_type": "code",
   "execution_count": 44,
   "metadata": {},
   "outputs": [
    {
     "name": "stdout",
     "output_type": "stream",
     "text": [
      "Wissenschaft wird gemacht von: woman\n",
      "Mörder sind: black\n",
      "Mann ohne Intelligenz: [('woman', 0.525009274482727), ('boy', 0.4727959632873535), ('teenager', 0.4585689902305603), ('teenage_girl', 0.42294150590896606), ('girl', 0.3896019458770752), ('teen_ager', 0.3817293643951416), ('robber', 0.37824171781539917), ('Man', 0.3740370571613312), ('Robbery_suspect', 0.3724946975708008), ('suspected_purse_snatcher', 0.36925598978996277)]\n"
     ]
    }
   ],
   "source": [
    "# Wird Wissenschaft von Frauen oder Männern gemacht?\n",
    "print('Wissenschaft wird gemacht von: {}'.format(embeddings.most_similar_to_given('science', ['man', 'woman'])))\n",
    "# Sind Mörder eher Schwarze, Weiße oder Asiaten?\n",
    "print('Mörder sind: {}'.format(embeddings.most_similar_to_given('murderers', ['black', 'white', 'asian'])))\n",
    "# Was bleibt vom Mann, wenn die Intelligenz abgezogen wird?\n",
    "print('Mann ohne Intelligenz: {}'.format(embeddings.most_similar(positive=['man'], negative=['intelligence'])))\n"
   ]
  },
  {
   "cell_type": "markdown",
   "metadata": {},
   "source": [
    "## Aufgabe 2: Von Wörtern zu Sätzen\n",
    "Nachdem wir uns mit der semantischen Repräsentation von Wörtern beschäftigt haben, wollen wir jetzt zu Sätzen übergehen. Wie bereits gesagt, wollen wir die Ähnlichkeit von Satzpaaren bestimmen. Dazu brauchen wir einen Testdatensatz."
   ]
  },
  {
   "cell_type": "markdown",
   "metadata": {},
   "source": [
    "### Aufgabe 2.1: Testdaten einlesen\n",
    "Die Datei ```sts-train.csv``` enthält 5749 Satzpaare, deren Ähnlichkeit jeweils mit einem Score zwischen 0 (völlig unähnlich) und 5 (völlig ähnlich) bewertet wurde. Lest diese Datei in einen Pandas-Dataframe ein.\n",
    "\n",
    "Zu beachten sind die folgenden Punkte:\n",
    "* Bei den CSV-Dateien handelt es sich eigentlich strenggenommen um TSV-Dateien, d.h. die einzelnen Spalten sind durch Tab getrennt.\n",
    "* Einige Zeilen enthalten unvollständige Quotes, die zu Fehlern beim Einlesen führen können. Diese sollen ignoriert werden. (```quoting=csv.QUOTE_NONE```)\n",
    "* Zitat aus der zum Datenset gehörigen README: \n",
    ">Each file is encoded in utf-8 (a superset of ASCII), and has the following tab separated fields:  \n",
    ">__genre filename year score sentence1 sentence2__  \n",
    ">optionally there might be some license-related fields after sentence2.\n",
    "\n",
    "Neben den uns interessierenden Spalten \"score\", \"sentence1\" und \"sentence2\" sind also noch weitere Spalten enthalten. Wir können den Parameter ```usecols``` verwenden, um die Indizes der uns interessierenden Spalten anzugeben (Zählung beginnt bei 1). Für die Spalten vergeben wir die Namen \"score\", \"sentence1\" und \"sentence2\"."
   ]
  },
  {
   "cell_type": "code",
   "execution_count": 50,
   "metadata": {},
   "outputs": [],
   "source": [
    "import pandas as pd\n",
    "import csv\n",
    "\n",
    "testdata =  pd.read_csv('data/sts-train.csv', quoting=csv.QUOTE_NONE, sep='\\t', encoding='utf-8', usecols=[0,1,2,3,4,5])"
   ]
  },
  {
   "cell_type": "code",
   "execution_count": 51,
   "metadata": {},
   "outputs": [
    {
     "data": {
      "text/html": [
       "<div>\n",
       "<style scoped>\n",
       "    .dataframe tbody tr th:only-of-type {\n",
       "        vertical-align: middle;\n",
       "    }\n",
       "\n",
       "    .dataframe tbody tr th {\n",
       "        vertical-align: top;\n",
       "    }\n",
       "\n",
       "    .dataframe thead th {\n",
       "        text-align: right;\n",
       "    }\n",
       "</style>\n",
       "<table border=\"1\" class=\"dataframe\">\n",
       "  <thead>\n",
       "    <tr style=\"text-align: right;\">\n",
       "      <th></th>\n",
       "      <th>main-captions</th>\n",
       "      <th>MSRvid</th>\n",
       "      <th>2012test</th>\n",
       "      <th>0001</th>\n",
       "      <th>5.000</th>\n",
       "      <th>A plane is taking off.</th>\n",
       "    </tr>\n",
       "  </thead>\n",
       "  <tbody>\n",
       "    <tr>\n",
       "      <th>0</th>\n",
       "      <td>main-captions</td>\n",
       "      <td>MSRvid</td>\n",
       "      <td>2012test</td>\n",
       "      <td>4</td>\n",
       "      <td>3.80</td>\n",
       "      <td>A man is playing a large flute.</td>\n",
       "    </tr>\n",
       "    <tr>\n",
       "      <th>1</th>\n",
       "      <td>main-captions</td>\n",
       "      <td>MSRvid</td>\n",
       "      <td>2012test</td>\n",
       "      <td>5</td>\n",
       "      <td>3.80</td>\n",
       "      <td>A man is spreading shreded cheese on a pizza.</td>\n",
       "    </tr>\n",
       "    <tr>\n",
       "      <th>2</th>\n",
       "      <td>main-captions</td>\n",
       "      <td>MSRvid</td>\n",
       "      <td>2012test</td>\n",
       "      <td>6</td>\n",
       "      <td>2.60</td>\n",
       "      <td>Three men are playing chess.</td>\n",
       "    </tr>\n",
       "    <tr>\n",
       "      <th>3</th>\n",
       "      <td>main-captions</td>\n",
       "      <td>MSRvid</td>\n",
       "      <td>2012test</td>\n",
       "      <td>9</td>\n",
       "      <td>4.25</td>\n",
       "      <td>A man is playing the cello.</td>\n",
       "    </tr>\n",
       "    <tr>\n",
       "      <th>4</th>\n",
       "      <td>main-captions</td>\n",
       "      <td>MSRvid</td>\n",
       "      <td>2012test</td>\n",
       "      <td>11</td>\n",
       "      <td>4.25</td>\n",
       "      <td>Some men are fighting.</td>\n",
       "    </tr>\n",
       "  </tbody>\n",
       "</table>\n",
       "</div>"
      ],
      "text/plain": [
       "   main-captions  MSRvid  2012test  0001  5.000  \\\n",
       "0  main-captions  MSRvid  2012test     4   3.80   \n",
       "1  main-captions  MSRvid  2012test     5   3.80   \n",
       "2  main-captions  MSRvid  2012test     6   2.60   \n",
       "3  main-captions  MSRvid  2012test     9   4.25   \n",
       "4  main-captions  MSRvid  2012test    11   4.25   \n",
       "\n",
       "                          A plane is taking off.  \n",
       "0                A man is playing a large flute.  \n",
       "1  A man is spreading shreded cheese on a pizza.  \n",
       "2                   Three men are playing chess.  \n",
       "3                    A man is playing the cello.  \n",
       "4                         Some men are fighting.  "
      ]
     },
     "execution_count": 51,
     "metadata": {},
     "output_type": "execute_result"
    }
   ],
   "source": [
    "testdata.head()"
   ]
  },
  {
   "cell_type": "markdown",
   "metadata": {},
   "source": [
    "### Aufgabe 2.2: Semantische Repräsentation von Sätzen\n",
    "Genau wie für Wörter wollen wir auch die Semantik von Sätzen in einem Vektor der Dimension 300 abbilden. Dazu wählen wir einen recht einfachen Ansatz und mitteln die Vektoren der Wörter, aus denen der Satz besteht.\n",
    "\n",
    "Schreibt eine Funktion, die einen Satz entgegennimmt und einen Vektor mit den gemittelten semantischen Embeddings zurückgibt. Wird ein leerer String übergeben oder enthält der übergebene Satz nur Wörter, für die keine Embeddings vorhanden sind, soll ein Nullvektor der Länge 300 zurückgegeben werden."
   ]
  },
  {
   "cell_type": "code",
   "execution_count": null,
   "metadata": {},
   "outputs": [],
   "source": [
    "import numpy as np\n",
    "    \n",
    "def sentence_to_vec(sentence):\n",
    "    # TODO"
   ]
  },
  {
   "cell_type": "code",
   "execution_count": null,
   "metadata": {},
   "outputs": [],
   "source": [
    "def sentence_to_vec_tests():\n",
    "    if (np.zeros(300) != sentence_to_vec('')).any():\n",
    "        return \"Bei leerer Eingabe soll ein Nullvektor zurückgegeben werden\"\n",
    "    if (np.zeros(300) != sentence_to_vec('thereisnosuchword')).any():\n",
    "        return \"Wenn keine Embeddings gefunden werden, soll ein Nullvektor zurückgegeben werden.\"\n",
    "    if (embeddings['word'] != sentence_to_vec('word')).any():\n",
    "        return \"Da stimmt was nicht.\"\n",
    "    if ((embeddings['cat'] + embeddings['dog']) / 2 != sentence_to_vec('cat dog')).any():\n",
    "        return \"Die Funktion soll den Durchschnittswert der Vektoren berechnen.\"\n",
    "    if (embeddings['word'] != sentence_to_vec('thereisnosuchword word')).any():\n",
    "        return \"Wörter, deren Embedding nicht bekannt ist, sollen nicht berücksichtigt werden.\"\n",
    "    return \"Grundlegende Tests bestanden.\""
   ]
  },
  {
   "cell_type": "code",
   "execution_count": null,
   "metadata": {},
   "outputs": [],
   "source": [
    "print(sentence_to_vec_tests())"
   ]
  },
  {
   "cell_type": "markdown",
   "metadata": {},
   "source": [
    "### Aufgabe 2.3: Ähnlichkeitsberechnung\n",
    "Um die Ähnlichkeit zweier Vektoren zu bestimmen, wird häufig die [Kosinusähnlichkeit](https://de.wikipedia.org/wiki/Kosinus-%C3%84hnlichkeit) verwendet. Diese kann Werte zwischen −1 (Vektoren sind genau entgegengerichtet) und 1 (Vektoren sind genau gleichgerichtet) annehmen. Weil wir die von uns berechneten Ähnlichkeitswerte aber mit denen der Testdaten vergleichen können wollen, müssen wir den Wertebereich so anpassen, dass wir Werte zwischen 0 und 5 erhalten. Dabei treffen wir die vereinfachende Annahme, dass eine Kosinusähnlichkeit kleiner-gleich 0 als unähnlich (Wert 0) zu werten ist.\n",
    "\n",
    "Schreibt eine Funktion, die zwei Sätze entgegennimmt und Ähnlichkeitswerte im Bereich ```[0, 5]``` zurückgibt, basierend auf der Kosinusähnlichkeit der semantischen Vektoren der Sätze."
   ]
  },
  {
   "cell_type": "code",
   "execution_count": null,
   "metadata": {},
   "outputs": [],
   "source": [
    "from sklearn.metrics.pairwise import cosine_similarity\n",
    "def compute_similarity_score(sentence_1, sentence_2):\n",
    "    # TODO"
   ]
  },
  {
   "cell_type": "code",
   "execution_count": null,
   "metadata": {},
   "outputs": [],
   "source": [
    "import math\n",
    "def compute_similarity_score_test():\n",
    "    if not (math.isclose(compute_similarity_score(\"hot dog\", \"hot dog\"), 5.0)):\n",
    "        return \"Identische Sätze sollten einen Ähnlichkeitswert von 5 haben.\"\n",
    "    if not (math.isclose(compute_similarity_score(\"dog hot\", \"hot dog\"), 5.0)):\n",
    "        return \"Sätze, die sich nur in der Anordnung der Wörter unterscheiden, sollten einen Ähnlichkeitswert von 5 haben.\"\n",
    "    if not (math.isclose(compute_similarity_score(\"nosuchword\", \"word\"), 0.0)):\n",
    "        return \"Der Vergleich eines unbekannten Wortes mit einem bekannten, sollte zu einem Ähnlichkeitswert von 0 führen.\"\n",
    "    if (math.isclose(compute_similarity_score(\"bread\", \"cake\"), 0.0)):\n",
    "        return \"Verwandte Worte sollten einen Ähnlichkeitswert größer Null aufweisen.\"\n",
    "    return \"Grundlegende Tests bestanden.\"\n",
    "\n",
    "compute_similarity_score_test()"
   ]
  },
  {
   "cell_type": "markdown",
   "metadata": {},
   "source": [
    "## Aufgabe 3: Validierung\n",
    "Im letzten Schritt wollen wir bestimmen, wie gut unsere Ähnlichkeitsberechnung funktioniert, d.h. wie stark die von uns berechneten Ähnlichkeitswerte für die Satzpaare aus dem Testdatensatz mit den erwarteten Werten übereinstimmen.\n",
    "\n",
    "Dazu verwenden wir den [Korrelationskoeffizienten](https://de.wikipedia.org/wiki/Korrelationskoeffizient), der uns in ```scipy``` als [```pearsonr```](https://docs.scipy.org/doc/scipy/reference/generated/scipy.stats.pearsonr.html) zur Verfügung steht.\n",
    "\n",
    "Schreibt eine Funktion, die zwei Listen mit Ähnlichkeitswerten entgegennimmt und für diese den Pearsonscore berechnet. Wendet die Funktion auf die für die Testdaten erwarteten und die von uns berechneten Ähnlichkeitsscores an und interpretiert das Ergebnis."
   ]
  },
  {
   "cell_type": "code",
   "execution_count": null,
   "metadata": {},
   "outputs": [],
   "source": [
    "import numpy as np\n",
    "from scipy import stats\n",
    "def calculate_pearson_score(expected, actual):\n",
    "    # TODO"
   ]
  },
  {
   "cell_type": "code",
   "execution_count": null,
   "metadata": {},
   "outputs": [],
   "source": [
    "#TODO: Anwenden\n"
   ]
  },
  {
   "cell_type": "code",
   "execution_count": 6,
   "metadata": {},
   "outputs": [
    {
     "name": "stdout",
     "output_type": "stream",
     "text": [
      "Package            Version \r\n",
      "------------------ --------\r\n",
      "alembic            1.0.8   \r\n",
      "asn1crypto         0.24.0  \r\n",
      "async-generator    1.10    \r\n",
      "attrs              19.1.0  \r\n",
      "backcall           0.1.0   \r\n",
      "beautifulsoup4     4.7.1   \r\n",
      "bleach             3.1.0   \r\n",
      "bokeh              1.0.4   \r\n",
      "boto               2.49.0  \r\n",
      "boto3              1.9.145 \r\n",
      "botocore           1.12.145\r\n",
      "certifi            2019.3.9\r\n",
      "cffi               1.12.3  \r\n",
      "chardet            3.0.4   \r\n",
      "Click              7.0     \r\n",
      "cloudpickle        0.8.1   \r\n",
      "conda              4.6.14  \r\n",
      "cryptography       2.6.1   \r\n",
      "cycler             0.10.0  \r\n",
      "Cython             0.29.7  \r\n",
      "cytoolz            0.9.0.1 \r\n",
      "dask               1.1.5   \r\n",
      "decorator          4.4.0   \r\n",
      "defusedxml         0.5.0   \r\n",
      "dill               0.2.9   \r\n",
      "distributed        1.28.0  \r\n",
      "docutils           0.14    \r\n",
      "entrypoints        0.3     \r\n",
      "fastcache          1.1.0   \r\n",
      "gensim             3.7.3   \r\n",
      "gmpy2              2.0.8   \r\n",
      "h5py               2.9.0   \r\n",
      "heapdict           1.0.0   \r\n",
      "idna               2.8     \r\n",
      "imageio            2.5.0   \r\n",
      "ipykernel          5.1.0   \r\n",
      "ipython            7.5.0   \r\n",
      "ipython-genutils   0.2.0   \r\n",
      "ipywidgets         7.4.2   \r\n",
      "jedi               0.13.3  \r\n",
      "Jinja2             2.10.1  \r\n",
      "jmespath           0.9.4   \r\n",
      "jsonschema         3.0.1   \r\n",
      "jupyter-client     5.2.4   \r\n",
      "jupyter-core       4.4.0   \r\n",
      "jupyterhub         0.9.6   \r\n",
      "jupyterlab         0.35.5  \r\n",
      "jupyterlab-server  0.2.0   \r\n",
      "kiwisolver         1.1.0   \r\n",
      "llvmlite           0.27.1  \r\n",
      "locket             0.2.0   \r\n",
      "Mako               1.0.7   \r\n",
      "MarkupSafe         1.1.1   \r\n",
      "matplotlib         3.0.3   \r\n",
      "mistune            0.8.4   \r\n",
      "mpmath             1.1.0   \r\n",
      "msgpack            0.6.1   \r\n",
      "nbconvert          5.5.0   \r\n",
      "nbformat           4.4.0   \r\n",
      "networkx           2.3     \r\n",
      "notebook           5.7.8   \r\n",
      "numba              0.42.1  \r\n",
      "numexpr            2.6.9   \r\n",
      "numpy              1.15.4  \r\n",
      "olefile            0.46    \r\n",
      "packaging          19.0    \r\n",
      "pamela             1.0.0   \r\n",
      "pandas             0.24.2  \r\n",
      "pandocfilters      1.4.2   \r\n",
      "parso              0.4.0   \r\n",
      "partd              0.3.9   \r\n",
      "patsy              0.5.1   \r\n",
      "pexpect            4.7.0   \r\n",
      "pickleshare        0.7.5   \r\n",
      "Pillow             6.0.0   \r\n",
      "pip                19.1    \r\n",
      "prometheus-client  0.6.0   \r\n",
      "prompt-toolkit     2.0.9   \r\n",
      "protobuf           3.7.1   \r\n",
      "psutil             5.6.2   \r\n",
      "ptyprocess         0.6.0   \r\n",
      "pycosat            0.6.3   \r\n",
      "pycparser          2.19    \r\n",
      "pycurl             7.43.0.2\r\n",
      "pyemd              0.5.1   \r\n",
      "Pygments           2.4.0   \r\n",
      "pyOpenSSL          19.0.0  \r\n",
      "pyparsing          2.4.0   \r\n",
      "pyrsistent         0.15.1  \r\n",
      "PySocks            1.6.8   \r\n",
      "python-dateutil    2.8.0   \r\n",
      "python-editor      1.0.4   \r\n",
      "python-oauth2      1.1.0   \r\n",
      "pytz               2019.1  \r\n",
      "PyWavelets         1.0.3   \r\n",
      "PyYAML             5.1     \r\n",
      "pyzmq              18.0.1  \r\n",
      "requests           2.21.0  \r\n",
      "ruamel-yaml        0.15.71 \r\n",
      "s3transfer         0.2.0   \r\n",
      "scikit-image       0.14.2  \r\n",
      "scikit-learn       0.20.3  \r\n",
      "scipy              1.2.1   \r\n",
      "seaborn            0.9.0   \r\n",
      "Send2Trash         1.5.0   \r\n",
      "setuptools         41.0.1  \r\n",
      "six                1.12.0  \r\n",
      "smart-open         1.8.3   \r\n",
      "sortedcontainers   2.1.0   \r\n",
      "soupsieve          1.9.1   \r\n",
      "SQLAlchemy         1.3.3   \r\n",
      "statsmodels        0.9.0   \r\n",
      "sympy              1.3     \r\n",
      "tblib              1.3.2   \r\n",
      "terminado          0.8.2   \r\n",
      "testpath           0.4.2   \r\n",
      "toolz              0.9.0   \r\n",
      "tornado            6.0.2   \r\n",
      "traitlets          4.3.2   \r\n",
      "urllib3            1.24.2  \r\n",
      "vincent            0.4.4   \r\n",
      "wcwidth            0.1.7   \r\n",
      "webencodings       0.5.1   \r\n",
      "wheel              0.33.1  \r\n",
      "widgetsnbextension 3.4.2   \r\n",
      "xlrd               1.2.0   \r\n",
      "zict               0.1.4   \r\n"
     ]
    }
   ],
   "source": [
    "!pip list"
   ]
  },
  {
   "cell_type": "code",
   "execution_count": null,
   "metadata": {},
   "outputs": [],
   "source": []
  }
 ],
 "metadata": {
  "kernelspec": {
   "display_name": "Python 3",
   "language": "python",
   "name": "python3"
  },
  "language_info": {
   "codemirror_mode": {
    "name": "ipython",
    "version": 3
   },
   "file_extension": ".py",
   "mimetype": "text/x-python",
   "name": "python",
   "nbconvert_exporter": "python",
   "pygments_lexer": "ipython3",
   "version": "3.7.3"
  }
 },
 "nbformat": 4,
 "nbformat_minor": 2
}
